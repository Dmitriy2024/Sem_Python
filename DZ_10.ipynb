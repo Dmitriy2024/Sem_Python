{
  "nbformat": 4,
  "nbformat_minor": 0,
  "metadata": {
    "colab": {
      "provenance": [],
      "authorship_tag": "ABX9TyO+vsQym1ku1Agi/eSoFSQ8"
    },
    "kernelspec": {
      "name": "python3",
      "display_name": "Python 3"
    },
    "language_info": {
      "name": "python"
    }
  },
  "cells": [
    {
      "cell_type": "markdown",
      "source": [
        "Задание 44. В ячейке ниже представлен код генерирующий DataFrame, которая состоит всего из 1 столбца. Ваша задача перевести его в one hot вид. Сможете ли вы это сделать без get_dummies?\n",
        "import random\n",
        "lst = ['robot'] * 10\n",
        "lst += ['human'] * 10\n",
        "random.shuffle(lst)\n",
        "data = pd.DataFrame({'whoAmI'lst})\n",
        "data.head() |\n"
      ],
      "metadata": {
        "id": "5rDv17f_4L8y"
      }
    },
    {
      "cell_type": "code",
      "source": [
        "import pandas as pd\n",
        "import numpy as np\n",
        "import random"
      ],
      "metadata": {
        "id": "uEU6iqha4V-E"
      },
      "execution_count": 1,
      "outputs": []
    },
    {
      "cell_type": "code",
      "source": [
        "lst = ['robot'] * 10\n",
        "lst += ['human'] * 10\n",
        "random.shuffle(lst)\n",
        "data = pd.DataFrame({'whoAmI': lst})\n",
        "print(data)\n",
        "print('')\n",
        "\n",
        "\n",
        "data['tmp'] = 1\n",
        "data.set_index([data.index, 'whoAmI'], inplace=True)\n",
        "data = data.unstack(level=-1, fill_value = 0).astype(int)\n",
        "data.columns = data.columns.droplevel()\n",
        "data.columns.name = None\n",
        "print(data)\n"
      ],
      "metadata": {
        "colab": {
          "base_uri": "https://localhost:8080/"
        },
        "id": "J2rO4Zv74flI",
        "outputId": "57190572-a73b-4d84-d6a8-32df92ce57e7"
      },
      "execution_count": 13,
      "outputs": [
        {
          "output_type": "stream",
          "name": "stdout",
          "text": [
            "   whoAmI\n",
            "0   robot\n",
            "1   human\n",
            "2   robot\n",
            "3   robot\n",
            "4   robot\n",
            "5   robot\n",
            "6   human\n",
            "7   robot\n",
            "8   human\n",
            "9   human\n",
            "10  robot\n",
            "11  robot\n",
            "12  human\n",
            "13  human\n",
            "14  human\n",
            "15  human\n",
            "16  robot\n",
            "17  human\n",
            "18  robot\n",
            "19  human\n",
            "##################\n",
            "    human  robot\n",
            "0       0      1\n",
            "1       1      0\n",
            "2       0      1\n",
            "3       0      1\n",
            "4       0      1\n",
            "5       0      1\n",
            "6       1      0\n",
            "7       0      1\n",
            "8       1      0\n",
            "9       1      0\n",
            "10      0      1\n",
            "11      0      1\n",
            "12      1      0\n",
            "13      1      0\n",
            "14      1      0\n",
            "15      1      0\n",
            "16      0      1\n",
            "17      1      0\n",
            "18      0      1\n",
            "19      1      0\n"
          ]
        }
      ]
    }
  ]
}